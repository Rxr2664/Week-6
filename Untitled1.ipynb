{
  "nbformat": 4,
  "nbformat_minor": 0,
  "metadata": {
    "colab": {
      "provenance": []
    },
    "kernelspec": {
      "name": "python3",
      "display_name": "Python 3"
    },
    "language_info": {
      "name": "python"
    }
  },
  "cells": [
    {
      "cell_type": "code",
      "execution_count": 10,
      "metadata": {
        "colab": {
          "base_uri": "https://localhost:8080/"
        },
        "id": "O7fuy0AnvTIu",
        "outputId": "0094cff4-9663-48f1-dcab-03b4319a3ed7"
      },
      "outputs": [
        {
          "output_type": "stream",
          "name": "stderr",
          "text": [
            "ERROR:root:Unexpected exception finding object shape\n",
            "Traceback (most recent call last):\n",
            "  File \"/usr/local/lib/python3.11/dist-packages/google/colab/_debugpy_repr.py\", line 61, in get_shape\n",
            "    return str(shape)\n",
            "           ^^^^^^^^^^\n",
            "  File \"/usr/local/lib/python3.11/dist-packages/dask_expr/_collection.py\", line 4803, in __repr__\n",
            "    return f\"<dask_expr.expr.Scalar: expr={self.expr}, dtype={self.dtype}>\"\n",
            "           ^^^^^^^^^^^^^^^^^^^^^^^^^^^^^^^^^^^^^^^^^^^^^^^^^^^^^^^^^^^^^^^^\n",
            "  File \"/usr/local/lib/python3.11/dist-packages/dask_expr/_expr.py\", line 2627, in __str__\n",
            "    return f\"{self.left} {self._operator_repr} {self.right}\"\n",
            "           ^^^^^^^^^^^^^^^^^^^^^^^^^^^^^^^^^^^^^^^^^^^^^^^^^\n",
            "  File \"/usr/local/lib/python3.11/dist-packages/dask_expr/_reductions.py\", line 826, in __str__\n",
            "    base = str(self.frame)\n",
            "           ^^^^^^^^^^^^^^^\n",
            "  File \"/usr/local/lib/python3.11/dist-packages/dask_expr/_core.py\", line 83, in __str__\n",
            "    s = \", \".join(self._operands_for_repr())\n",
            "                  ^^^^^^^^^^^^^^^^^^^^^^^^^\n",
            "  File \"/usr/local/lib/python3.11/dist-packages/dask_expr/_core.py\", line 77, in _operands_for_repr\n",
            "    and operand != self._defaults.get(param)\n",
            "        ^^^^^^^^^^^^^^^^^^^^^^^^^^^^^^^^^^^^\n",
            "ValueError: The truth value of an array with more than one element is ambiguous. Use a.any() or a.all()\n",
            "ERROR:root:Unexpected exception finding object shape\n",
            "Traceback (most recent call last):\n",
            "  File \"/usr/local/lib/python3.11/dist-packages/google/colab/_debugpy_repr.py\", line 61, in get_shape\n",
            "    return str(shape)\n",
            "           ^^^^^^^^^^\n",
            "  File \"/usr/local/lib/python3.11/dist-packages/dask_expr/_collection.py\", line 4803, in __repr__\n",
            "    return f\"<dask_expr.expr.Scalar: expr={self.expr}, dtype={self.dtype}>\"\n",
            "           ^^^^^^^^^^^^^^^^^^^^^^^^^^^^^^^^^^^^^^^^^^^^^^^^^^^^^^^^^^^^^^^^\n",
            "  File \"/usr/local/lib/python3.11/dist-packages/dask_expr/_expr.py\", line 2627, in __str__\n",
            "    return f\"{self.left} {self._operator_repr} {self.right}\"\n",
            "           ^^^^^^^^^^^^^^^^^^^^^^^^^^^^^^^^^^^^^^^^^^^^^^^^^\n",
            "  File \"/usr/local/lib/python3.11/dist-packages/dask_expr/_reductions.py\", line 826, in __str__\n",
            "    base = str(self.frame)\n",
            "           ^^^^^^^^^^^^^^^\n",
            "  File \"/usr/local/lib/python3.11/dist-packages/dask_expr/_core.py\", line 83, in __str__\n",
            "    s = \", \".join(self._operands_for_repr())\n",
            "                  ^^^^^^^^^^^^^^^^^^^^^^^^^\n",
            "  File \"/usr/local/lib/python3.11/dist-packages/dask_expr/_core.py\", line 77, in _operands_for_repr\n",
            "    and operand != self._defaults.get(param)\n",
            "        ^^^^^^^^^^^^^^^^^^^^^^^^^^^^^^^^^^^^\n",
            "ValueError: The truth value of an array with more than one element is ambiguous. Use a.any() or a.all()\n",
            "ERROR:root:Unexpected exception finding object shape\n",
            "Traceback (most recent call last):\n",
            "  File \"/usr/local/lib/python3.11/dist-packages/google/colab/_debugpy_repr.py\", line 61, in get_shape\n",
            "    return str(shape)\n",
            "           ^^^^^^^^^^\n",
            "  File \"/usr/local/lib/python3.11/dist-packages/dask_expr/_collection.py\", line 4803, in __repr__\n",
            "    return f\"<dask_expr.expr.Scalar: expr={self.expr}, dtype={self.dtype}>\"\n",
            "           ^^^^^^^^^^^^^^^^^^^^^^^^^^^^^^^^^^^^^^^^^^^^^^^^^^^^^^^^^^^^^^^^\n",
            "  File \"/usr/local/lib/python3.11/dist-packages/dask_expr/_expr.py\", line 2627, in __str__\n",
            "    return f\"{self.left} {self._operator_repr} {self.right}\"\n",
            "           ^^^^^^^^^^^^^^^^^^^^^^^^^^^^^^^^^^^^^^^^^^^^^^^^^\n",
            "  File \"/usr/local/lib/python3.11/dist-packages/dask_expr/_reductions.py\", line 826, in __str__\n",
            "    base = str(self.frame)\n",
            "           ^^^^^^^^^^^^^^^\n",
            "  File \"/usr/local/lib/python3.11/dist-packages/dask_expr/_core.py\", line 83, in __str__\n",
            "    s = \", \".join(self._operands_for_repr())\n",
            "                  ^^^^^^^^^^^^^^^^^^^^^^^^^\n",
            "  File \"/usr/local/lib/python3.11/dist-packages/dask_expr/_core.py\", line 77, in _operands_for_repr\n",
            "    and operand != self._defaults.get(param)\n",
            "        ^^^^^^^^^^^^^^^^^^^^^^^^^^^^^^^^^^^^\n",
            "ValueError: The truth value of an array with more than one element is ambiguous. Use a.any() or a.all()\n",
            "ERROR:root:Unexpected exception finding object shape\n",
            "Traceback (most recent call last):\n",
            "  File \"/usr/local/lib/python3.11/dist-packages/google/colab/_debugpy_repr.py\", line 61, in get_shape\n",
            "    return str(shape)\n",
            "           ^^^^^^^^^^\n",
            "  File \"/usr/local/lib/python3.11/dist-packages/dask_expr/_collection.py\", line 4803, in __repr__\n",
            "    return f\"<dask_expr.expr.Scalar: expr={self.expr}, dtype={self.dtype}>\"\n",
            "           ^^^^^^^^^^^^^^^^^^^^^^^^^^^^^^^^^^^^^^^^^^^^^^^^^^^^^^^^^^^^^^^^\n",
            "  File \"/usr/local/lib/python3.11/dist-packages/dask_expr/_expr.py\", line 2627, in __str__\n",
            "    return f\"{self.left} {self._operator_repr} {self.right}\"\n",
            "           ^^^^^^^^^^^^^^^^^^^^^^^^^^^^^^^^^^^^^^^^^^^^^^^^^\n",
            "  File \"/usr/local/lib/python3.11/dist-packages/dask_expr/_reductions.py\", line 826, in __str__\n",
            "    base = str(self.frame)\n",
            "           ^^^^^^^^^^^^^^^\n",
            "  File \"/usr/local/lib/python3.11/dist-packages/dask_expr/_core.py\", line 83, in __str__\n",
            "    s = \", \".join(self._operands_for_repr())\n",
            "                  ^^^^^^^^^^^^^^^^^^^^^^^^^\n",
            "  File \"/usr/local/lib/python3.11/dist-packages/dask_expr/_core.py\", line 77, in _operands_for_repr\n",
            "    and operand != self._defaults.get(param)\n",
            "        ^^^^^^^^^^^^^^^^^^^^^^^^^^^^^^^^^^^^\n",
            "ValueError: The truth value of an array with more than one element is ambiguous. Use a.any() or a.all()\n"
          ]
        }
      ],
      "source": [
        "# ✅ STEP 0: Install required libraries\n",
        "!pip install modin[ray] dask pyyaml --quiet\n"
      ]
    },
    {
      "cell_type": "markdown",
      "source": [],
      "metadata": {
        "id": "EyDfraRRwuuH"
      }
    },
    {
      "cell_type": "markdown",
      "source": [
        "import pandas as pd\n",
        "i"
      ],
      "metadata": {
        "id": "9ne2iaby2H8B"
      }
    },
    {
      "cell_type": "code",
      "source": [
        "import pandas as pd\n",
        "import modin.pandas as mpd\n",
        "import dask.dataframe as dd\n",
        "import yaml\n",
        "import time\n",
        "import os"
      ],
      "metadata": {
        "id": "mzJoQVZe2PVT"
      },
      "execution_count": 11,
      "outputs": []
    },
    {
      "cell_type": "code",
      "source": [
        "# ✅ STEP 2: Use small sports predictions CSV (manually defined for simplicity)\n",
        "csv_data = '''game_id,home_team,away_team,home_score,away_score,predicted_winner\n",
        "1,Chiefs,Bengals,27,24,Chiefs\n",
        "2,Bills,Patriots,21,17,Bills\n",
        "3,49ers,Eagles,28,30,Eagles\n",
        "4,Cowboys,Giants,17,13,Cowboys\n",
        "5,Rams,Packers,20,23,Packers\n",
        "'''\n",
        "\n",
        "# Save to a file\n",
        "with open(\"nfl_predictions.csv\", \"w\") as f:\n",
        "    f.write(csv_data)\n",
        "\n",
        "file_name = \"nfl_predictions.csv\"\n"
      ],
      "metadata": {
        "id": "vywBDrZC2a_e"
      },
      "execution_count": 12,
      "outputs": []
    },
    {
      "cell_type": "code",
      "source": [
        "# ✅ STEP 3: Read the file using different methods and record timings\n",
        "\n",
        "# --- Pandas ---\n",
        "start = time.time()\n",
        "df_pandas = pd.read_csv(file_name)\n",
        "end = time.time()\n",
        "print(\"[Pandas] Time taken:\", end - start, \"seconds\")\n",
        "\n",
        "# --- Modin ---\n",
        "start = time.time()\n",
        "df_modin = mpd.read_csv(file_name)\n",
        "end = time.time()\n",
        "print(\"[Modin] Time taken:\", end - start, \"seconds\")\n",
        "\n",
        "# --- Dask ---\n",
        "start = time.time()\n",
        "df_dask = dd.read_csv(file_name)\n",
        "end = time.time()\n",
        "print(\"[Dask] Time taken:\", end - start, \"seconds\")\n"
      ],
      "metadata": {
        "colab": {
          "base_uri": "https://localhost:8080/"
        },
        "id": "lq5LjX6b2gLL",
        "outputId": "99802303-aa1d-44e1-8814-20dc9fc7c2d6"
      },
      "execution_count": 13,
      "outputs": [
        {
          "output_type": "stream",
          "name": "stdout",
          "text": [
            "[Pandas] Time taken: 0.003728151321411133 seconds\n",
            "[Modin] Time taken: 0.04166984558105469 seconds\n",
            "[Dask] Time taken: 0.006651878356933594 seconds\n"
          ]
        }
      ]
    },
    {
      "cell_type": "code",
      "source": [
        "# ✅ STEP 4: Clean column names (remove special characters, spaces)\n",
        "def clean_columns(df):\n",
        "    df.columns = df.columns.str.strip().str.replace(r\"[^\\w]\", \"\", regex=True)\n",
        "    return df\n",
        "\n",
        "df_pandas = clean_columns(df_pandas)\n",
        "df_modin = clean_columns(df_modin)\n",
        "df_dask = clean_columns(df_dask)\n"
      ],
      "metadata": {
        "id": "bOfiUB-f2hYJ"
      },
      "execution_count": 14,
      "outputs": []
    },
    {
      "cell_type": "code",
      "source": [
        "# ✅ STEP 5: Save YAML schema\n",
        "schema = {\n",
        "    'separator': '|',\n",
        "    'columns': df_pandas.columns.tolist()\n",
        "}\n",
        "\n",
        "with open(\"schema.yaml\", \"w\") as f:\n",
        "    yaml.dump(schema, f)\n"
      ],
      "metadata": {
        "id": "rkL255DH2jZb"
      },
      "execution_count": 15,
      "outputs": []
    },
    {
      "cell_type": "code",
      "source": [
        "with open(\"schema.yaml\") as f:\n",
        "  yaml_data = yaml.safe_load(f)\n",
        "\n",
        "assert len(df_pandas.columns) == len(yaml_data['columns']), \"Column count mismatch\"\n",
        "assert all(df_pandas.columns == yaml_data['columns']), \"Column names mismatch\"\n",
        "print(\"✅ Schema validation passed\")"
      ],
      "metadata": {
        "colab": {
          "base_uri": "https://localhost:8080/"
        },
        "id": "P9capiQk2zrU",
        "outputId": "650694c8-34ef-4420-86aa-d690e3898f43"
      },
      "execution_count": 16,
      "outputs": [
        {
          "output_type": "stream",
          "name": "stdout",
          "text": [
            "✅ Schema validation passed\n"
          ]
        }
      ]
    },
    {
      "cell_type": "code",
      "source": [
        "# ✅ STEP 7: Write cleaned file as pipe-separated gzipped text\n",
        "output_file = \"output_cleaned.txt.gz\"\n",
        "df_pandas.to_csv(output_file, sep='|', index=False, compression='gzip')\n",
        "print(\"✅ File written as:\", output_file)\n"
      ],
      "metadata": {
        "colab": {
          "base_uri": "https://localhost:8080/"
        },
        "id": "NGX0Yk0D276x",
        "outputId": "4be5daaa-8f64-4ca0-87df-91d6a280a2a3"
      },
      "execution_count": 18,
      "outputs": [
        {
          "output_type": "stream",
          "name": "stdout",
          "text": [
            "✅ File written as: output_cleaned.txt.gz\n"
          ]
        }
      ]
    },
    {
      "cell_type": "code",
      "source": [
        "# ✅ STEP 8: Generate file summary\n",
        "print(\"Total rows:\", df_pandas.shape[0])\n",
        "print(\"Total columns:\", df_pandas.shape[1])\n",
        "print(\"File size (MB):\", os.path.getsize(output_file) / (1024 ** 2))\n"
      ],
      "metadata": {
        "colab": {
          "base_uri": "https://localhost:8080/"
        },
        "id": "AaKMII2E3NnK",
        "outputId": "1a1c7b92-4f75-4bdd-81e2-ed35fd393cb2"
      },
      "execution_count": 19,
      "outputs": [
        {
          "output_type": "stream",
          "name": "stdout",
          "text": [
            "Total rows: 5\n",
            "Total columns: 6\n",
            "File size (MB): 0.000179290771484375\n"
          ]
        }
      ]
    },
    {
      "cell_type": "markdown",
      "source": [
        "### 📝 Final Report Summary\n",
        "\n",
        "- **File Ingested:** `nfl_predictions.csv` (simulated NFL predictions data)  \n",
        "- **Columns Cleaned:** Yes (special characters & spaces removed)  \n",
        "- **Libraries Used:**  \n",
        "  - Pandas  \n",
        "  - Modin (Ray)  \n",
        "  - Dask  \n",
        "- **Schema Validation:** ✅ Passed using generated `schema.yaml`  \n",
        "- **Output File:** `output_cleaned.txt.gz`  \n",
        "  - Format: `|`-separated  \n",
        "  - Compressed: `.gz`  \n",
        "- **Summary Stats:**  \n",
        "  - Total Rows: 5  \n",
        "  - Total Columns: 6  \n",
        "  - File Size: Very small (< 0.001 MB)  \n",
        "- **Performance Observations:**  \n",
        "  - All libraries handled this small file instantly  \n",
        "  - Pandas had the lowest overhead  \n",
        "  - Modin and Dask are more useful for large datasets\n"
      ],
      "metadata": {
        "id": "SeP1zGCD3Ua6"
      }
    },
    {
      "cell_type": "code",
      "source": [
        "import os\n",
        "\n",
        "for file in os.listdir():\n",
        "  print(file)"
      ],
      "metadata": {
        "colab": {
          "base_uri": "https://localhost:8080/"
        },
        "id": "yhfC-f2H4Phq",
        "outputId": "14fed123-dd34-4b7e-d44e-5bb8829a75a4"
      },
      "execution_count": 20,
      "outputs": [
        {
          "output_type": "stream",
          "name": "stdout",
          "text": [
            ".config\n",
            "output_cleaned.txt.gz\n",
            "nfl_predictions.csv\n",
            "schema.yaml\n",
            "sample_data\n"
          ]
        }
      ]
    },
    {
      "cell_type": "code",
      "source": [
        "from google.colab import files\n",
        "files.download('schema.yaml')\n",
        "files.download('output_cleaned.txt.gz')\n",
        "files.download(\"nfl_predictions.csv\")"
      ],
      "metadata": {
        "colab": {
          "base_uri": "https://localhost:8080/",
          "height": 17
        },
        "id": "L4K4zL7q5DWa",
        "outputId": "c54168e6-f6d3-4eda-b377-d91434169b08"
      },
      "execution_count": 21,
      "outputs": [
        {
          "output_type": "display_data",
          "data": {
            "text/plain": [
              "<IPython.core.display.Javascript object>"
            ],
            "application/javascript": [
              "\n",
              "    async function download(id, filename, size) {\n",
              "      if (!google.colab.kernel.accessAllowed) {\n",
              "        return;\n",
              "      }\n",
              "      const div = document.createElement('div');\n",
              "      const label = document.createElement('label');\n",
              "      label.textContent = `Downloading \"${filename}\": `;\n",
              "      div.appendChild(label);\n",
              "      const progress = document.createElement('progress');\n",
              "      progress.max = size;\n",
              "      div.appendChild(progress);\n",
              "      document.body.appendChild(div);\n",
              "\n",
              "      const buffers = [];\n",
              "      let downloaded = 0;\n",
              "\n",
              "      const channel = await google.colab.kernel.comms.open(id);\n",
              "      // Send a message to notify the kernel that we're ready.\n",
              "      channel.send({})\n",
              "\n",
              "      for await (const message of channel.messages) {\n",
              "        // Send a message to notify the kernel that we're ready.\n",
              "        channel.send({})\n",
              "        if (message.buffers) {\n",
              "          for (const buffer of message.buffers) {\n",
              "            buffers.push(buffer);\n",
              "            downloaded += buffer.byteLength;\n",
              "            progress.value = downloaded;\n",
              "          }\n",
              "        }\n",
              "      }\n",
              "      const blob = new Blob(buffers, {type: 'application/binary'});\n",
              "      const a = document.createElement('a');\n",
              "      a.href = window.URL.createObjectURL(blob);\n",
              "      a.download = filename;\n",
              "      div.appendChild(a);\n",
              "      a.click();\n",
              "      div.remove();\n",
              "    }\n",
              "  "
            ]
          },
          "metadata": {}
        },
        {
          "output_type": "display_data",
          "data": {
            "text/plain": [
              "<IPython.core.display.Javascript object>"
            ],
            "application/javascript": [
              "download(\"download_2afc99df-3b74-4fa8-9e6e-035bad1f6245\", \"schema.yaml\", 103)"
            ]
          },
          "metadata": {}
        },
        {
          "output_type": "display_data",
          "data": {
            "text/plain": [
              "<IPython.core.display.Javascript object>"
            ],
            "application/javascript": [
              "\n",
              "    async function download(id, filename, size) {\n",
              "      if (!google.colab.kernel.accessAllowed) {\n",
              "        return;\n",
              "      }\n",
              "      const div = document.createElement('div');\n",
              "      const label = document.createElement('label');\n",
              "      label.textContent = `Downloading \"${filename}\": `;\n",
              "      div.appendChild(label);\n",
              "      const progress = document.createElement('progress');\n",
              "      progress.max = size;\n",
              "      div.appendChild(progress);\n",
              "      document.body.appendChild(div);\n",
              "\n",
              "      const buffers = [];\n",
              "      let downloaded = 0;\n",
              "\n",
              "      const channel = await google.colab.kernel.comms.open(id);\n",
              "      // Send a message to notify the kernel that we're ready.\n",
              "      channel.send({})\n",
              "\n",
              "      for await (const message of channel.messages) {\n",
              "        // Send a message to notify the kernel that we're ready.\n",
              "        channel.send({})\n",
              "        if (message.buffers) {\n",
              "          for (const buffer of message.buffers) {\n",
              "            buffers.push(buffer);\n",
              "            downloaded += buffer.byteLength;\n",
              "            progress.value = downloaded;\n",
              "          }\n",
              "        }\n",
              "      }\n",
              "      const blob = new Blob(buffers, {type: 'application/binary'});\n",
              "      const a = document.createElement('a');\n",
              "      a.href = window.URL.createObjectURL(blob);\n",
              "      a.download = filename;\n",
              "      div.appendChild(a);\n",
              "      a.click();\n",
              "      div.remove();\n",
              "    }\n",
              "  "
            ]
          },
          "metadata": {}
        },
        {
          "output_type": "display_data",
          "data": {
            "text/plain": [
              "<IPython.core.display.Javascript object>"
            ],
            "application/javascript": [
              "download(\"download_9a155dae-4a16-437f-8a2e-293ce76958c0\", \"output_cleaned.txt.gz\", 188)"
            ]
          },
          "metadata": {}
        },
        {
          "output_type": "display_data",
          "data": {
            "text/plain": [
              "<IPython.core.display.Javascript object>"
            ],
            "application/javascript": [
              "\n",
              "    async function download(id, filename, size) {\n",
              "      if (!google.colab.kernel.accessAllowed) {\n",
              "        return;\n",
              "      }\n",
              "      const div = document.createElement('div');\n",
              "      const label = document.createElement('label');\n",
              "      label.textContent = `Downloading \"${filename}\": `;\n",
              "      div.appendChild(label);\n",
              "      const progress = document.createElement('progress');\n",
              "      progress.max = size;\n",
              "      div.appendChild(progress);\n",
              "      document.body.appendChild(div);\n",
              "\n",
              "      const buffers = [];\n",
              "      let downloaded = 0;\n",
              "\n",
              "      const channel = await google.colab.kernel.comms.open(id);\n",
              "      // Send a message to notify the kernel that we're ready.\n",
              "      channel.send({})\n",
              "\n",
              "      for await (const message of channel.messages) {\n",
              "        // Send a message to notify the kernel that we're ready.\n",
              "        channel.send({})\n",
              "        if (message.buffers) {\n",
              "          for (const buffer of message.buffers) {\n",
              "            buffers.push(buffer);\n",
              "            downloaded += buffer.byteLength;\n",
              "            progress.value = downloaded;\n",
              "          }\n",
              "        }\n",
              "      }\n",
              "      const blob = new Blob(buffers, {type: 'application/binary'});\n",
              "      const a = document.createElement('a');\n",
              "      a.href = window.URL.createObjectURL(blob);\n",
              "      a.download = filename;\n",
              "      div.appendChild(a);\n",
              "      a.click();\n",
              "      div.remove();\n",
              "    }\n",
              "  "
            ]
          },
          "metadata": {}
        },
        {
          "output_type": "display_data",
          "data": {
            "text/plain": [
              "<IPython.core.display.Javascript object>"
            ],
            "application/javascript": [
              "download(\"download_f96abdd6-889d-400b-af6d-39ef49704cb7\", \"nfl_predictions.csv\", 214)"
            ]
          },
          "metadata": {}
        }
      ]
    }
  ]
}